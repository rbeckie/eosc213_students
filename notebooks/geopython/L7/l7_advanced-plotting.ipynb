{
 "cells": [
  {
   "cell_type": "markdown",
   "metadata": {},
   "source": [
    "# More advanced plotting with Matplotlib\n",
    "\n",
    "At this point you should know the basics of making plots with Matplotlib module.\n",
    "Now we will expand on our basic plotting skills to learn how to create more advanced plots.\n",
    "In this part, we will show how to visualize data using Matplotlib and create plots such as the one below.\n",
    "\n",
    "![Subplot example in Matplotlib](img/subplots.png)"
   ]
  },
  {
   "cell_type": "markdown",
   "metadata": {},
   "source": [
    "## The dataset\n",
    "\n",
    "For this lesson we will use hourly weather data from Helsinki.\n",
    "\n",
    "- The data file (`1924927457196dat.txt`) is in the `data` subdirectory.\n",
    "- It contains observed hourly temperatures, windspeeds, etc. covering years 2012 and 2013. Observations were recorded at the Malmi airport weather station in Helsinki. It is derived from a data file of daily temperature measurments downloaded from the [US National Oceanographic and Atmospheric Administration’s National Centers for Environmental Information climate database](https://www7.ncdc.noaa.gov/CDO/cdopoemain.cmd?datasetabbv=DS3505&countryabbv=&georegionabbv=&resolution=40).\n",
    "- There should be around 16.5 thousand rows in the data.\n",
    "\n",
    "The first rows of the data looks like:\n",
    "\n",
    "```\n",
    "  USAF  WBAN YR--MODAHRMN DIR SPD GUS CLG SKC L M H  VSB MW MW MW MW AW AW AW AW W TEMP DEWP    SLP   ALT    STP MAX MIN PCP01 PCP06 PCP24 PCPXX SD\n",
    "029750 99999 201201010050 280   3 ***  89 BKN * * *  7.0 ** ** ** ** ** ** ** ** *   28   25 ****** 29.74 ****** *** *** ***** ***** ***** ***** ** \n",
    "029750 99999 201201010150 310   3 ***  89 OVC * * *  7.0 ** ** ** ** ** ** ** ** *   27   25 ****** 29.77 ****** *** *** ***** ***** ***** ***** ** \n",
    "029750 99999 201201010250 280   1 *** *** *** * * *  6.2 ** ** ** ** ** ** ** ** *   25   21 ****** 29.77 ****** *** *** ***** ***** ***** ***** ** \n",
    "029750 99999 201201010350 200   1 *** *** *** * * *  6.2 ** ** ** ** ** ** ** ** *   21   21 ****** 29.80 ****** *** *** ***** ***** ***** ***** ** \n",
    "```"
   ]
  },
  {
   "cell_type": "markdown",
   "metadata": {},
   "source": [
    "## Getting started\n",
    "\n",
    "Let's start again by importing the pyplot submodule of Matplotlib."
   ]
  },
  {
   "cell_type": "code",
   "execution_count": null,
   "metadata": {},
   "outputs": [],
   "source": []
  },
  {
   "cell_type": "markdown",
   "metadata": {},
   "source": [
    "### Loading the data using NumPy\n",
    "\n",
    "As always, let's first import NumPy."
   ]
  },
  {
   "cell_type": "code",
   "execution_count": null,
   "metadata": {},
   "outputs": [],
   "source": [
    "import numpy as np"
   ]
  },
  {
   "cell_type": "markdown",
   "metadata": {},
   "source": [
    "We can now load our data using a similar approach to that used in the previous lessons.\n",
    "Note that in this case, we only want the `YR--MODAHRMN` and `TEMP` columns."
   ]
  },
  {
   "cell_type": "code",
   "execution_count": null,
   "metadata": {},
   "outputs": [],
   "source": [
    "fp = 'data/1924927457196dat.txt'\n",
    "data = np.genfromtxt(fp, skip_header=1, usecols=(2, 21))"
   ]
  },
  {
   "cell_type": "markdown",
   "metadata": {},
   "source": [
    "With our data loaded, we can again split the data into separate column arrays."
   ]
  },
  {
   "cell_type": "code",
   "execution_count": null,
   "metadata": {},
   "outputs": [],
   "source": [
    "date = data[:,0]\n",
    "temp = data[:,1]"
   ]
  },
  {
   "cell_type": "markdown",
   "metadata": {},
   "source": [
    "We can also go ahead and convert `date` to integer values."
   ]
  },
  {
   "cell_type": "code",
   "execution_count": null,
   "metadata": {},
   "outputs": [],
   "source": [
    "date = date.astype(int)"
   ]
  },
  {
   "cell_type": "markdown",
   "metadata": {},
   "source": [
    "### Loading the data using Pandas\n",
    "\n",
    "As always, let's first import Pandas."
   ]
  },
  {
   "cell_type": "code",
   "execution_count": null,
   "metadata": {},
   "outputs": [],
   "source": [
    "import pandas as pd"
   ]
  },
  {
   "cell_type": "markdown",
   "metadata": {},
   "source": [
    "We can now load our data using a similar approach to that used in the previous lessons."
   ]
  },
  {
   "cell_type": "code",
   "execution_count": null,
   "metadata": {},
   "outputs": [],
   "source": [
    "fp = 'data/1924927457196dat.txt'\n",
    "dataFrame = pd.read_csv(fp, sep='\\s+', na_values=['*', '**', '***', '****', '*****', '******'])"
   ]
  },
  {
   "cell_type": "markdown",
   "metadata": {},
   "source": [
    "As in the last section of this week's lesson, let's separate `dataFrame` into separate value arrays for the `YR--MODAHRMN`, `SPD`, and `TEMP` columns."
   ]
  },
  {
   "cell_type": "code",
   "execution_count": null,
   "metadata": {},
   "outputs": [],
   "source": [
    "date = dataFrame['YR--MODAHRMN'].values\n",
    "temp = dataFrame['TEMP'].values"
   ]
  },
  {
   "cell_type": "markdown",
   "metadata": {},
   "source": [
    "## Preparing the data\n",
    "\n",
    "A quick check of the `temp` data will reveal there are a handful of missing data values.\n",
    "We can check for the existence of `nan` values, for example, by running the cell below."
   ]
  },
  {
   "cell_type": "code",
   "execution_count": null,
   "metadata": {},
   "outputs": [],
   "source": [
    "print('Number of date nans: ', np.isnan(date).sum())\n",
    "print('Number of temp nans: ', np.isnan(temp).sum())"
   ]
  },
  {
   "cell_type": "markdown",
   "metadata": {},
   "source": [
    "Ouch, 26 bad values to cut.\n",
    "Since we're working with value arrays, the easiest way to drop the `nan` values from `temp` is save only the values that are not `nan`.\n",
    "We can do this, for example, using the following."
   ]
  },
  {
   "cell_type": "code",
   "execution_count": null,
   "metadata": {},
   "outputs": [],
   "source": []
  },
  {
   "cell_type": "markdown",
   "metadata": {},
   "source": [
    "This command simply uses the NumPy `isnan()` function to find all `nan` values, then takes the logical opposite (not) of those values using the `~` character.\n",
    "\n",
    "For those using Pandas, you could possibly use `dropna()` as an alternative to this approach, but only for the dataframe, not the value arrays.\n",
    "\n",
    "Lastly, since we've cut `nan` values from `temp` we should do the same in `date`."
   ]
  },
  {
   "cell_type": "code",
   "execution_count": null,
   "metadata": {},
   "outputs": [],
   "source": []
  },
  {
   "cell_type": "markdown",
   "metadata": {},
   "source": [
    "### Converting temperatures to Celsius\n",
    "\n",
    "Now that we have loaded our data, we can convert the values of temperature in Fahrenheit to Celsius, much like we have in earlier lessons."
   ]
  },
  {
   "cell_type": "code",
   "execution_count": null,
   "metadata": {},
   "outputs": [],
   "source": []
  },
  {
   "cell_type": "markdown",
   "metadata": {},
   "source": [
    "We should now have a value array `temp_celsius` with all of the temperatures from the data file in Celsius."
   ]
  },
  {
   "cell_type": "markdown",
   "metadata": {},
   "source": [
    "## Using subplots\n",
    "\n",
    "Let's continue working with the weather data and learn how to do subplots, i.e. Figures where you have multiple plots in different panels as was shown at the start of the lesson."
   ]
  },
  {
   "cell_type": "markdown",
   "metadata": {},
   "source": [
    "### Extracting seasonal temperatures\n",
    "\n",
    "Let's first divide our data into different seasons: Winter (December-February), Spring (March-May), Summer (June-August), and Fall (Septempber-November)."
   ]
  },
  {
   "cell_type": "code",
   "execution_count": null,
   "metadata": {},
   "outputs": [],
   "source": [
    "\n",
    "\n",
    "\n",
    "\n",
    "spring_mask = (date >= 201303010000) & (date < 201306010000)\n",
    "spring_dates = date[spring_mask]\n",
    "spring_temps = temp_celsius[spring_mask]\n",
    "\n",
    "summer_mask = (date >= 201306010000) & (date < 201309010000)\n",
    "summer_dates = date[summer_mask]\n",
    "summer_temps = temp_celsius[summer_mask]\n",
    "\n",
    "fall_mask = (date >= 201309010000) & (date < 201401010000)\n",
    "fall_dates = date[fall_mask]\n",
    "fall_temps = temp_celsius[fall_mask]"
   ]
  },
  {
   "cell_type": "markdown",
   "metadata": {},
   "source": [
    "Now we can plot our data to see how the different seasons look separately."
   ]
  },
  {
   "cell_type": "code",
   "execution_count": null,
   "metadata": {},
   "outputs": [],
   "source": []
  },
  {
   "cell_type": "code",
   "execution_count": null,
   "metadata": {},
   "outputs": [],
   "source": [
    "plt.plot(spring_temps)"
   ]
  },
  {
   "cell_type": "code",
   "execution_count": null,
   "metadata": {},
   "outputs": [],
   "source": [
    "plt.plot(summer_temps)"
   ]
  },
  {
   "cell_type": "code",
   "execution_count": null,
   "metadata": {},
   "outputs": [],
   "source": [
    "plt.plot(fall_temps)"
   ]
  },
  {
   "cell_type": "markdown",
   "metadata": {},
   "source": [
    "OK, so from these plots we can already see that the temperatures in different seasons are quite different, which is rather obvious of course.\n",
    "It is important to also notice that the scale of the *y*-axis changes in these different plots.\n",
    "If we would like to compare different seasons to each other we need to make sure that the temperature scale is similar in the plots of the different seasons.\n",
    "\n",
    "### Finding data bounds\n",
    "\n",
    "Let's set our *y*-axis limits so that the upper limit is the maximum temperature + 5 degrees in our data (full year), and the lowest is the minimum temperature - 5 degrees."
   ]
  },
  {
   "cell_type": "code",
   "execution_count": null,
   "metadata": {},
   "outputs": [],
   "source": [
    "\n",
    "\n",
    "print(\"Min:\", min_temp, \"Max:\", max_temp)"
   ]
  },
  {
   "cell_type": "markdown",
   "metadata": {},
   "source": [
    "OK, so now we can see that the minimum temperature in our data is approximately -29 degrees and the maximum is +29 degrees.\n",
    "We can now use those values to standardize the y-axis scale of our plot.\n",
    "\n",
    "### Creating our first set of subplots\n",
    "\n",
    "Let's now continue and see how we can plot all these different plots into the same figure.\n",
    "We can create a 2x2 panel for our visualization using matplotlib’s `subplots()` function where we specify how many rows and columns we want to have in our figure.\n",
    "We can also specify the size of our figure with `figsize()` parameter that takes the `width` and `height` values (in inches) as input."
   ]
  },
  {
   "cell_type": "code",
   "execution_count": null,
   "metadata": {},
   "outputs": [],
   "source": [
    "\n"
   ]
  },
  {
   "cell_type": "markdown",
   "metadata": {},
   "source": [
    "We can see that as a result we have now a list containing two nested lists where the first one contains the axis for column 1 and 2 on **row 1** and the second list contains the axis for columns 1 and 2 for **row 2**.\n",
    "We can parse these axes into own variables so it is easier to work with them."
   ]
  },
  {
   "cell_type": "code",
   "execution_count": null,
   "metadata": {},
   "outputs": [],
   "source": [
    "\n",
    "\n",
    "\n"
   ]
  },
  {
   "cell_type": "markdown",
   "metadata": {},
   "source": [
    "Now we have four different axis variables for different panels in our figure.\n",
    "Next we can use them to plot the seasonal data into them.\n",
    "Let's first plot the seasons and give different colors for the lines, and specify the *y*-scale limits to be the same with all subplots.\n",
    "With parameter `c` it is possible to specify the color of the line.\n",
    "You can find an extensive list of possible colors and RGB-color codes from [this link](http://www.rapidtables.com/web/color/RGB_Color.htm).\n",
    "With `lw` parameter you can specify the width of the line."
   ]
  },
  {
   "cell_type": "code",
   "execution_count": null,
   "metadata": {},
   "outputs": [],
   "source": [
    "# Set plot line width\n",
    "\n",
    "\n",
    "# Plot data\n",
    "\n",
    "ax12.plot(spring_temps, c='orange', lw=line_width)\n",
    "ax21.plot(summer_temps, c='green', lw=line_width)\n",
    "ax22.plot(fall_temps, c='brown', lw=line_width)\n",
    "\n",
    "# Set y-axis limits\n",
    "\n",
    "ax12.set_ylim(min_temp, max_temp)\n",
    "ax21.set_ylim(min_temp, max_temp)\n",
    "ax22.set_ylim(min_temp, max_temp)\n",
    "\n",
    "# Display figure\n",
    "fig"
   ]
  },
  {
   "cell_type": "markdown",
   "metadata": {},
   "source": [
    "Great, now we have all the plots in same figure!\n",
    "However, we can see that there are some problems with our *x*-axis as we haven't linked that axis to the dates of the observations.\n",
    "We can change that with a bit of `datetime` module magic.\n",
    "\n",
    "### Converting our date string to dates for Matplotlib plotting\n",
    "\n",
    "We can start by importing the `datetime` submodule from `datetime`."
   ]
  },
  {
   "cell_type": "code",
   "execution_count": null,
   "metadata": {},
   "outputs": [],
   "source": []
  },
  {
   "cell_type": "markdown",
   "metadata": {},
   "source": [
    "With `datetime` imported, we can now create a function that will convert all of our dates in `date` to a special representation of that date data that Matplotlib understands as a date for plotting.\n",
    "Before we can define and use our function, however, we'll need our dates as a character string array."
   ]
  },
  {
   "cell_type": "code",
   "execution_count": null,
   "metadata": {},
   "outputs": [],
   "source": [
    "\n",
    "spring_str = spring_dates.astype(str)\n",
    "summer_str = summer_dates.astype(str)\n",
    "fall_str = fall_dates.astype(str)"
   ]
  },
  {
   "cell_type": "markdown",
   "metadata": {},
   "source": [
    "OK, so now we have our dates as strings in `<season>_str`.\n",
    "Now we can create our date conversion function."
   ]
  },
  {
   "cell_type": "code",
   "execution_count": null,
   "metadata": {},
   "outputs": [],
   "source": []
  },
  {
   "cell_type": "markdown",
   "metadata": {},
   "source": [
    "`datetime.strptime()` is a special function in `datetime` used to convert strings to `datetime` objects.\n",
    "In our case, we will convert each value from the format `YYYYMMDDhhmm` to `datetime`, where `YYYY` is the year, `MM` is the month, `DD` is the day, `hh` is the hour of the day, and `mm` is the minute in the hour.\n",
    "\n",
    "Let's put our function to work."
   ]
  },
  {
   "cell_type": "code",
   "execution_count": null,
   "metadata": {},
   "outputs": [],
   "source": [
    "\n",
    "\n",
    "\n",
    "spring_dt = [convert(date) for date in spring_str]\n",
    "spring_dt = np.array(spring_dt)\n",
    "\n",
    "summer_dt = [convert(date) for date in summer_str]\n",
    "summer_dt = np.array(summer_dt)\n",
    "\n",
    "fall_dt = [convert(date) for date in fall_str]\n",
    "fall_dt = np.array(fall_dt)"
   ]
  },
  {
   "cell_type": "markdown",
   "metadata": {},
   "source": [
    "What has happened here is that we have created a new list of `datetime` values using list comprehension, then converted the output to NumPy arrays for each season.\n",
    "If you don't understand everything at this point, don't worry.\n",
    "The important thing is we're ready to plot again!\n",
    "\n",
    "We can set things up the way we did previously."
   ]
  },
  {
   "cell_type": "code",
   "execution_count": null,
   "metadata": {},
   "outputs": [],
   "source": [
    "# Create the figure and subplots\n",
    "fig, axes = plt.subplots(nrows=2, ncols=2, figsize=(12,8))\n",
    "\n",
    "# Rename the axes for ease of use\n",
    "ax11 = axes[0][0]\n",
    "ax12 = axes[0][1]\n",
    "ax21 = axes[1][0]\n",
    "ax22 = axes[1][1]"
   ]
  },
  {
   "cell_type": "markdown",
   "metadata": {},
   "source": [
    "Now, we'll add our seasonal temperatures to the plot commands for each time period."
   ]
  },
  {
   "cell_type": "code",
   "execution_count": null,
   "metadata": {},
   "outputs": [],
   "source": [
    "# Set the plotted line width\n",
    "line_width = 1.5\n",
    "\n",
    "# Plot data\n",
    "ax11.plot(winter_dt, winter_temps, c='blue', lw=line_width)\n",
    "ax12.plot(spring_dt, spring_temps, c='orange', lw=line_width)\n",
    "ax21.plot(summer_dt, summer_temps, c='green', lw=line_width)\n",
    "ax22.plot(fall_dt, fall_temps, c='brown', lw=line_width)\n",
    "\n",
    "# Set y-axis limits\n",
    "ax11.set_ylim(min_temp, max_temp)\n",
    "ax12.set_ylim(min_temp, max_temp)\n",
    "ax21.set_ylim(min_temp, max_temp)\n",
    "ax22.set_ylim(min_temp, max_temp)\n",
    "\n",
    "# Turn plot grids on\n",
    "\n",
    "ax12.grid()\n",
    "ax21.grid()\n",
    "ax22.grid()\n",
    "\n",
    "# Figure title\n",
    "\n",
    "\n",
    "# Rotate the x-axis labels so they don't overlap\n",
    "\n",
    "plt.setp(ax12.xaxis.get_majorticklabels(), rotation=20)\n",
    "plt.setp(ax21.xaxis.get_majorticklabels(), rotation=20)\n",
    "plt.setp(ax22.xaxis.get_majorticklabels(), rotation=20)\n",
    "\n",
    "# Axis labels\n",
    "\n",
    "ax22.set_xlabel('Date')\n",
    "\n",
    "ax21.set_ylabel('Temperature [deg. C]')\n",
    "\n",
    "# Season label text\n",
    "\n",
    "ax12.text(datetime(2013, 5, 15), -25, 'Spring')\n",
    "ax21.text(datetime(2013, 8, 15), -25, 'Summer')\n",
    "ax22.text(datetime(2013, 11, 15), -25, 'Fall')\n",
    "\n",
    "fig"
   ]
  },
  {
   "cell_type": "markdown",
   "metadata": {},
   "source": [
    "Not bad."
   ]
  }
 ],
 "metadata": {
  "kernelspec": {
   "display_name": "Python 3",
   "language": "python",
   "name": "python3"
  },
  "language_info": {
   "codemirror_mode": {
    "name": "ipython",
    "version": 3
   },
   "file_extension": ".py",
   "mimetype": "text/x-python",
   "name": "python",
   "nbconvert_exporter": "python",
   "pygments_lexer": "ipython3",
   "version": "3.6.4"
  }
 },
 "nbformat": 4,
 "nbformat_minor": 2
}
