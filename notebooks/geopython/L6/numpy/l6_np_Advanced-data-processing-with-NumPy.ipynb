{
 "cells": [
  {
   "cell_type": "markdown",
   "metadata": {},
   "source": [
    "# Advanced data processing with NumPy\n",
    "\n",
    "This week we will continue developing our skills using NumPy to process real data.\n",
    "In the lesson this week we are using daily weather observations from the [Detroit Willow Run Airport](https://en.wikipedia.org/wiki/Willow_Run_Airport) station, near Ypsilanti, Michigan in the U.S.\n",
    "This data file is in the same format as the one you'll work with in this week's exercise."
   ]
  },
  {
   "cell_type": "markdown",
   "metadata": {},
   "source": [
    "## Getting started\n",
    "\n",
    "### Previewing the data file.\n",
    "\n",
    "To start, let's have a look at the top few lines of our data file.\n",
    "\n",
    "```\n",
    "STATION           ELEVATION  LATITUDE   LONGITUDE  DATE     PRCP     TAVG     TMAX     TMIN     \n",
    "----------------- ---------- ---------- ---------- -------- -------- -------- -------- -------- \n",
    "GHCND:USW00014853      236.8   42.23333  -83.53333 20070101 0.03     -9999    50       32       \n",
    "GHCND:USW00014853      236.8   42.23333  -83.53333 20070102 0.00     -9999    43       26       \n",
    "GHCND:USW00014853      236.8   42.23333  -83.53333 20070103 0.00     -9999    46       30\n",
    "```\n",
    "\n",
    "So, we have 9 columns in the file, with values separated by variable numbers of spaces.\n",
    "Another thing to notice are the `-9999` values, which indicate missing data.\n",
    "Otherwise, some columns contain numerical values, and those will be our focus for today's lesson.\n",
    "If you prefer, you're welcome to open the data file in the JupyterLab editor to explore more."
   ]
  },
  {
   "cell_type": "markdown",
   "metadata": {},
   "source": [
    "### Importing NumPy and loading the data\n",
    "\n",
    "Now let's import NumPy and read in our data to a variable called `data`."
   ]
  },
  {
   "cell_type": "code",
   "execution_count": null,
   "metadata": {},
   "outputs": [],
   "source": []
  },
  {
   "cell_type": "markdown",
   "metadata": {},
   "source": [
    "Now we can read the data file.\n",
    "Note that we only want the `DATE`, `TAVG`, `TMAX`, and `TMIN` values, which we can select using the `usecols()` parameter.\n",
    "Don't forget about skipping the header!"
   ]
  },
  {
   "cell_type": "code",
   "execution_count": null,
   "metadata": {},
   "outputs": [],
   "source": [
    "fp = '1495566.txt'\n",
    "data = np.genfromtxt()"
   ]
  },
  {
   "cell_type": "markdown",
   "metadata": {},
   "source": [
    "Now let's see what we're dealing with..."
   ]
  },
  {
   "cell_type": "code",
   "execution_count": null,
   "metadata": {},
   "outputs": [],
   "source": []
  },
  {
   "cell_type": "markdown",
   "metadata": {},
   "source": [
    "### Converting the missing data to nan values\n",
    "\n",
    "Our first processing task will be to convert the missing data values to `np.nan` values, which will make it easier to use masks later in our data processing.\n",
    "We can go ahead and do this to all of the data to start, following a similar approach to how we used masks in the last lesson.\n",
    "\n",
    "First, we need to identify a useful test for identifying missing data.\n",
    "We could could convert the data to integer values everywhere and test for values being equal to `-9999`, but there's an even easier option.\n",
    "Since we know all of our data are dates or temperatures, we can simply look for numbers below `-9998` to identify missing data."
   ]
  },
  {
   "cell_type": "code",
   "execution_count": null,
   "metadata": {},
   "outputs": [],
   "source": []
  },
  {
   "cell_type": "code",
   "execution_count": null,
   "metadata": {},
   "outputs": [],
   "source": []
  },
  {
   "cell_type": "markdown",
   "metadata": {},
   "source": [
    "Now we see the expected `nan` values in place of the `-9999` values.\n",
    "Note that a `nan` value in NumPy is refered to as `np.nan`."
   ]
  },
  {
   "cell_type": "markdown",
   "metadata": {},
   "source": [
    "### Splitting the data into column arrays\n",
    "\n",
    "Like the last lesson, we can now separate our data into different arrays with meaningful names.\n",
    "For example, we can create a `date` array using the first column of `data`.\n",
    "Remember that we'll do this using array slicing."
   ]
  },
  {
   "cell_type": "code",
   "execution_count": null,
   "metadata": {},
   "outputs": [],
   "source": []
  },
  {
   "cell_type": "code",
   "execution_count": null,
   "metadata": {},
   "outputs": [],
   "source": []
  },
  {
   "cell_type": "markdown",
   "metadata": {},
   "source": [
    "Looks good, let's do the others."
   ]
  },
  {
   "cell_type": "code",
   "execution_count": null,
   "metadata": {},
   "outputs": [],
   "source": [
    "tavg = data[:,1]\n",
    "tmax = data[:,2]\n",
    "tmin = data[:,3]"
   ]
  },
  {
   "cell_type": "markdown",
   "metadata": {},
   "source": [
    "## Examining our data\n",
    "\n",
    "Now that we have loaded the data, let's have a look at what we're dealing with.\n",
    "\n",
    "### Basic observations\n",
    "\n",
    "We can start by looking at some basic information, such as the starting and ending dates for the observations."
   ]
  },
  {
   "cell_type": "code",
   "execution_count": null,
   "metadata": {},
   "outputs": [],
   "source": []
  },
  {
   "cell_type": "code",
   "execution_count": null,
   "metadata": {},
   "outputs": [],
   "source": []
  },
  {
   "cell_type": "markdown",
   "metadata": {},
   "source": [
    "OK, so we can see our observations start on January 1, 2007 and continue until December 31, 2017.\n",
    "\n",
    "### Checking for missing/bad data\n",
    "\n",
    "Let's make sure that we don't have any missing dates by looking for any `nan` values in the `date` array.\n",
    "To do this, we'll need a new NumPy function we've not yet used called `np.count_nonzero()`.\n",
    "`np.count_nonzero()` does exactly what is says, counts all values that are not equal to zero in an array and returns the sum.\n",
    "In this case, `False` values in mask arrays, for example, are considered to be equal to zero in the count.\n",
    "Thus, if we have a mask array with all of the *finite* values for an array like `date`, that should give `np.count_nonzero()` will give us the number of dates with useful data.\n",
    "Let's see how it works."
   ]
  },
  {
   "cell_type": "code",
   "execution_count": null,
   "metadata": {},
   "outputs": [],
   "source": []
  },
  {
   "cell_type": "code",
   "execution_count": null,
   "metadata": {},
   "outputs": [],
   "source": [
    "print(\"Number of days:\", np.count_nonzero(date_mask))"
   ]
  },
  {
   "cell_type": "markdown",
   "metadata": {},
   "source": [
    "OK, so we have 4016 dates in the data we're using, but how do we know whether we're missing any dates?\n",
    "One way to check is to take the opposite of the mask array values by using the `~` character, the logical not operator.\n",
    "How does it work?\n",
    "Let's see."
   ]
  },
  {
   "cell_type": "code",
   "execution_count": null,
   "metadata": {},
   "outputs": [],
   "source": []
  },
  {
   "cell_type": "code",
   "execution_count": null,
   "metadata": {},
   "outputs": [],
   "source": [
    "print(\"Number of missing days:\", np.count_nonzero(missing_date_mask))"
   ]
  },
  {
   "cell_type": "markdown",
   "metadata": {},
   "source": [
    "OK, so no missing days, which is not really a big surprise.\n",
    "Good to know at least.\n",
    "How about for the other arrays like `tavg`?"
   ]
  },
  {
   "cell_type": "code",
   "execution_count": null,
   "metadata": {},
   "outputs": [],
   "source": [
    "\n",
    "print(\"Number of average temps:\", np.count_nonzero(tavg_mask))"
   ]
  },
  {
   "cell_type": "markdown",
   "metadata": {},
   "source": [
    "Oh no!\n",
    "So we don't have any average temperature observations.\n",
    "Looks like we'll have to use another array for exploring the temperature data."
   ]
  },
  {
   "cell_type": "markdown",
   "metadata": {},
   "source": [
    "## Calculations within a date range\n",
    "\n",
    "One common thing we'd like to do is calculate something about our data over a fixed time range, for example, one year.\n",
    "We've seen this idea previously, but just to remind you we can do this by masking our data.\n",
    "\n",
    "### Removing missing data\n",
    "\n",
    "First, let's check for any missing data in the `tmax` array."
   ]
  },
  {
   "cell_type": "code",
   "execution_count": null,
   "metadata": {},
   "outputs": [],
   "source": [
    "\n",
    "print(\"Number of missing tmax values:\", np.count_nonzero(missing_tmax_mask))"
   ]
  },
  {
   "cell_type": "markdown",
   "metadata": {},
   "source": [
    "OK, so we need to remove the missing values first, which we can do as we've done before: Make a mask array, then remove bad values using the mask."
   ]
  },
  {
   "cell_type": "code",
   "execution_count": null,
   "metadata": {},
   "outputs": [],
   "source": []
  },
  {
   "cell_type": "code",
   "execution_count": null,
   "metadata": {},
   "outputs": [],
   "source": []
  },
  {
   "cell_type": "markdown",
   "metadata": {},
   "source": [
    "We can also remove the corresponding dates by using the same mask (`tmax_mask`) on our `date` array."
   ]
  },
  {
   "cell_type": "code",
   "execution_count": null,
   "metadata": {},
   "outputs": [],
   "source": []
  },
  {
   "cell_type": "markdown",
   "metadata": {},
   "source": [
    "### Average annual temperature, method 1\n",
    "\n",
    "OK, now let's use a range of dates to find the average maximum temperature for one year.\n",
    "In this case, let's go for 2010."
   ]
  },
  {
   "cell_type": "code",
   "execution_count": null,
   "metadata": {},
   "outputs": [],
   "source": []
  },
  {
   "cell_type": "code",
   "execution_count": null,
   "metadata": {},
   "outputs": [],
   "source": []
  },
  {
   "cell_type": "markdown",
   "metadata": {},
   "source": [
    "OK, so this works, but we'll see another more flexible approach in just a moment."
   ]
  },
  {
   "cell_type": "markdown",
   "metadata": {},
   "source": [
    "### Average monthly temperatures\n",
    "\n",
    "So one possibility is for us to use numerical ranges to calculate things like average annual temperatures.\n",
    "An alternative is to split date into different arrays, with one for each year, month, and day in the data.\n",
    "To do this, we first need to convert the `date_clean` array to be character string values rather than `float64` values.\n",
    "Let's do that."
   ]
  },
  {
   "cell_type": "code",
   "execution_count": null,
   "metadata": {},
   "outputs": [],
   "source": []
  },
  {
   "cell_type": "markdown",
   "metadata": {},
   "source": [
    "Well, that's not quite what we want.\n",
    "Ideally, we want a date in the form `YYYYMMDD` where `YYYY` is the year, `MM` is the month, and `DD` is the day.\n",
    "Looks like we need to convert the date to an integer first."
   ]
  },
  {
   "cell_type": "code",
   "execution_count": null,
   "metadata": {},
   "outputs": [],
   "source": []
  },
  {
   "cell_type": "code",
   "execution_count": null,
   "metadata": {},
   "outputs": [],
   "source": []
  },
  {
   "cell_type": "code",
   "execution_count": null,
   "metadata": {},
   "outputs": [],
   "source": []
  },
  {
   "cell_type": "markdown",
   "metadata": {},
   "source": [
    "That's better."
   ]
  },
  {
   "cell_type": "markdown",
   "metadata": {},
   "source": [
    "## Splitting dates into separate year, month, and day\n",
    "\n",
    "Now we can go about splitting our dates into separate arrays for the year, month, and day.\n",
    "\n",
    "### Splitting a single date string\n",
    "\n",
    "As a reminder, it is first useful to recall that character strings can be sliced using index values just like arrays."
   ]
  },
  {
   "cell_type": "code",
   "execution_count": null,
   "metadata": {},
   "outputs": [],
   "source": []
  },
  {
   "cell_type": "code",
   "execution_count": null,
   "metadata": {},
   "outputs": [],
   "source": []
  },
  {
   "cell_type": "markdown",
   "metadata": {},
   "source": [
    "So by taking the first 4 values from the string `YYYYMMDD` we get `YYYY`.\n",
    "We can do the same for the month, for example."
   ]
  },
  {
   "cell_type": "code",
   "execution_count": null,
   "metadata": {},
   "outputs": [],
   "source": []
  },
  {
   "cell_type": "markdown",
   "metadata": {},
   "source": [
    "### Splitting dates in a NumPy array\n",
    "\n",
    "With this in mind, we can now attempt the same in our NumPy array `date_clean_str`."
   ]
  },
  {
   "cell_type": "code",
   "execution_count": null,
   "metadata": {},
   "outputs": [],
   "source": []
  },
  {
   "cell_type": "code",
   "execution_count": null,
   "metadata": {},
   "outputs": [],
   "source": []
  },
  {
   "cell_type": "code",
   "execution_count": null,
   "metadata": {},
   "outputs": [],
   "source": []
  },
  {
   "cell_type": "markdown",
   "metadata": {},
   "source": [
    "OK, so we have the year now, but what happened with the `[datenow[0:4] for datenow in date_clean_str]` stuff.\n",
    "We've never seen that before.\n",
    "You're right, this is new, and is an example of list comprehension in Python.\n",
    "Basically, it is a shorthand approach for looping over all of the values and doing something to them.\n",
    "In our case, we find the first 4 characters for each value in the `date` array.\n",
    "\n",
    "To be more clear,\n",
    "```python\n",
    "[datenow[0:4] for datenow in date_clean_str]\n",
    "```\n",
    "is equivalent to doing\n",
    "```python\n",
    "year = []\n",
    "for datenow in date_clean_str:\n",
    "    year.append(datenow[0:4]\n",
    "```\n",
    "since this would produce a new list called `year`, we then need to use the `np.array()` function to convert that list to a NumPy array.\n",
    "Let's do the same for the months and days."
   ]
  },
  {
   "cell_type": "code",
   "execution_count": null,
   "metadata": {},
   "outputs": [],
   "source": [
    "month = [datenow[4:6] for datenow in date_clean_str]\n",
    "month = np.array(month)"
   ]
  },
  {
   "cell_type": "code",
   "execution_count": null,
   "metadata": {},
   "outputs": [],
   "source": [
    "day = [datenow[6:8] for datenow in date_clean_str]\n",
    "day = np.array(day)"
   ]
  },
  {
   "cell_type": "markdown",
   "metadata": {},
   "source": [
    "## Finding averages in a date range\n",
    "\n",
    "Now that we have separate arrays for the year, month, and day we can do some fun stuff like calculate the monthly average temperature for a given year.\n",
    "\n",
    "### Finding the average monthly max temperature\n",
    "\n",
    "Let's take 2010 again as our example and find the average temperatures for each month in 2010.\n",
    "For this, we can use a `for` loop."
   ]
  },
  {
   "cell_type": "code",
   "execution_count": null,
   "metadata": {},
   "outputs": [],
   "source": []
  },
  {
   "cell_type": "code",
   "execution_count": null,
   "metadata": {},
   "outputs": [],
   "source": []
  },
  {
   "cell_type": "code",
   "execution_count": null,
   "metadata": {},
   "outputs": [],
   "source": []
  },
  {
   "cell_type": "markdown",
   "metadata": {},
   "source": [
    "OK, so let's break this down as there were a few things that happened here that might be unfamiliar.\n",
    "\n",
    "1. We created an array of zeros with 12 locations to store the monthly average temperatures.\n",
    "2. We used an index variable called `index` to define where to store those monthly average temperatures. We could have done this differently, but there is a good reason to use `index` here because it is more flexible if we wanted to consider more than one year of data as you'll see in this week's exercise.\n",
    "3. We then used a `for` loop to go through each unique month (found using `np.unique()`).\n",
    "4. For each month we found the max temperature using the condition `month == month_now`, and taking the `tmax_clean.mean()` for that month. We also limit the months to those in 2010 by using the `year == '2010'` condition.\n",
    "5. We added `1` to the `index` value to ensure the next mean value goes into the correct location in the `means_2010` array.\n",
    "\n",
    "This might seem a bit complicated, but it is rather powerful as well.\n",
    "We've efficiently calcuated mean monthly max temperatures in only a few lines of code!"
   ]
  },
  {
   "cell_type": "markdown",
   "metadata": {},
   "source": [
    "### Using functions on NumPy array data\n",
    "\n",
    "As you might have noticed above, the `means_2010` array has temperatures in Fahrenheit, which might be easier for us to work with in Celsius.\n",
    "Fortunately, we can easily convert NumPy array data from Fahrenheit to Celsius using a familiar function."
   ]
  },
  {
   "cell_type": "code",
   "execution_count": null,
   "metadata": {},
   "outputs": [],
   "source": [
    "def fahrToCelsius(temp):\n",
    "    return (temp - 32.0) / 1.8"
   ]
  },
  {
   "cell_type": "markdown",
   "metadata": {},
   "source": [
    "Now, let's go about that conversion."
   ]
  },
  {
   "cell_type": "code",
   "execution_count": null,
   "metadata": {},
   "outputs": [],
   "source": []
  },
  {
   "cell_type": "code",
   "execution_count": null,
   "metadata": {},
   "outputs": [],
   "source": []
  },
  {
   "cell_type": "markdown",
   "metadata": {},
   "source": [
    "Finally, something easy to do with NumPy!\n",
    "All we have to do hear is plug in a NumPy array with our function and we get back the converted temperature values."
   ]
  },
  {
   "cell_type": "markdown",
   "metadata": {},
   "source": [
    "### Computing monthly average temperatures for a range of years\n",
    "\n",
    "One thing we'll encounter in this week's exercise is a need to calculate monthly average temperatures for a number of years.\n",
    "For example, the average temperature in February from 2010-2015.\n",
    "We can do that with the tools we have, but in a slightly different way than calculating the monthly average temperature for each month in those years one by one.\n",
    "First, let's make a few masks, starting with the month."
   ]
  },
  {
   "cell_type": "code",
   "execution_count": null,
   "metadata": {},
   "outputs": [],
   "source": []
  },
  {
   "cell_type": "markdown",
   "metadata": {},
   "source": [
    "Nothing crazy here, just ensuring the month is February, or `'02'`.\n",
    "Now for the years."
   ]
  },
  {
   "cell_type": "code",
   "execution_count": null,
   "metadata": {},
   "outputs": [],
   "source": []
  },
  {
   "cell_type": "markdown",
   "metadata": {},
   "source": [
    "Again, nothing too scary here.\n",
    "We do need to use the `.astype(int)` here to be able to check the range of years, but that is not so bad.\n",
    "Now let's find that monthly average temperature for February between 2010 and 2015."
   ]
  },
  {
   "cell_type": "code",
   "execution_count": null,
   "metadata": {},
   "outputs": [],
   "source": []
  },
  {
   "cell_type": "code",
   "execution_count": null,
   "metadata": {},
   "outputs": [],
   "source": []
  },
  {
   "cell_type": "markdown",
   "metadata": {},
   "source": [
    "Looks about right, but perhaps we can check the value in Celsius to see whether that makes sense for winter in the northern hemisphere."
   ]
  },
  {
   "cell_type": "code",
   "execution_count": null,
   "metadata": {},
   "outputs": [],
   "source": []
  },
  {
   "cell_type": "markdown",
   "metadata": {},
   "source": [
    "Right around 0°C, looks good!"
   ]
  },
  {
   "cell_type": "markdown",
   "metadata": {},
   "source": [
    "### Calculating temperature anomalies\n",
    "\n",
    "One thing we can do now that we have a mean temperature for February in 2010-2015 is to compare one of those years to the average max temperature in the time period.\n",
    "This would give us a temperature anomaly, the difference between the mean value and a given year.\n",
    "Let's give that a shot."
   ]
  },
  {
   "cell_type": "code",
   "execution_count": null,
   "metadata": {},
   "outputs": [],
   "source": []
  },
  {
   "cell_type": "code",
   "execution_count": null,
   "metadata": {},
   "outputs": [],
   "source": []
  },
  {
   "cell_type": "markdown",
   "metadata": {},
   "source": [
    "As we can see, February of 2010 was only 0.08° Fahrenheit warmer than the average February between 2010 and 2015.\n",
    "Pretty typical February, it would seem.\n",
    "We'll explore exactly this kind of thing in more detail in this week's exercise."
   ]
  }
 ],
 "metadata": {
  "kernelspec": {
   "display_name": "Python 3",
   "language": "python",
   "name": "python3"
  },
  "language_info": {
   "codemirror_mode": {
    "name": "ipython",
    "version": 3
   },
   "file_extension": ".py",
   "mimetype": "text/x-python",
   "name": "python",
   "nbconvert_exporter": "python",
   "pygments_lexer": "ipython3",
   "version": "3.6.4"
  }
 },
 "nbformat": 4,
 "nbformat_minor": 2
}
