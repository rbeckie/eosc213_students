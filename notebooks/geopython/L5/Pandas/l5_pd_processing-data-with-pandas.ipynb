{
 "cells": [
  {
   "cell_type": "markdown",
   "metadata": {
    "deletable": true,
    "editable": true
   },
   "source": [
    "# Processing data with Pandas\n",
    "\n",
    "Now you should know the basics of the data structures in Pandas and how to explore your data using some tools that is provided by Pandas. Next we continue to explore some of the basic data operations that are regularly needed when doing data analysis.\n",
    "\n",
    "Let's first read the same data as before into Pandas to have a clean start, and focus on a few new aspects of importing data: "
   ]
  },
  {
   "cell_type": "code",
   "execution_count": null,
   "metadata": {
    "collapsed": false,
    "deletable": true,
    "editable": true
   },
   "outputs": [],
   "source": [
    "# Import pandas\n",
    "\n",
    "# Read in data"
   ]
  },
  {
   "cell_type": "markdown",
   "metadata": {
    "deletable": true,
    "editable": true
   },
   "source": [
    "**Please note** that you can use:\n",
    "\n",
    "- **'r' prefix** in front of the filepath string. \n",
    "- **Define a delimiter** using parameter `sep=','` in the `read_csv()` function. \n",
    "\n",
    "In our case, both of these details are not needed (the code works correctly without them), but they might come in handy in the future. The letter 'r' makes sure that the filepath is interpreted correctly. Without the r, backslashes are treated as escape characters. With the r, backslashes are treated as literal. You can read more about [escape characters here](https://python-reference.readthedocs.io/en/latest/docs/str/escapes.html). This happens often if you define full filepaths as input. What would for example happen here: `fp = C:\\notebooks\\L5\\Kumpula-June-2016-w-metadata.txt` ? (try it out!)\n",
    "\n",
    "**The default delimiter in the read_csv()-function is logically a comma (`,`)**. If needed, you can also define other characers and expressions as delimiter. For options, see [Pandas documentation for the read_csv -function](https://pandas.pydata.org/pandas-docs/stable/generated/pandas.read_csv.html). The correct delimiter in our case however is the comma, so the default option works for us."
   ]
  },
  {
   "cell_type": "markdown",
   "metadata": {
    "deletable": true,
    "editable": true
   },
   "source": [
    "## Calculating with DataFrames\n",
    "\n",
    "One of the most common things to do in Pandas is to create new columns based on calculations between different variables (columns).\n",
    "\n",
    "Creating a new column into our DataFrame is easy by specifying the name of the column and giving it some default value (in this case decimal number 0.0).\n"
   ]
  },
  {
   "cell_type": "code",
   "execution_count": null,
   "metadata": {
    "collapsed": false,
    "deletable": true,
    "editable": true
   },
   "outputs": [],
   "source": [
    "# Define a new column \"DIFF\"\n",
    "\n",
    "\n",
    "# Print the dataframe\n"
   ]
  },
  {
   "cell_type": "markdown",
   "metadata": {
    "deletable": true,
    "editable": true
   },
   "source": [
    "Let's check the datatype of our new column"
   ]
  },
  {
   "cell_type": "code",
   "execution_count": null,
   "metadata": {
    "collapsed": false,
    "deletable": true,
    "editable": true
   },
   "outputs": [],
   "source": [
    "# Check datatypes\n"
   ]
  },
  {
   "cell_type": "markdown",
   "metadata": {
    "deletable": true,
    "editable": true
   },
   "source": [
    "Okey, so we see that **Pandas created a new column** and recognized automatically that the data type is float as we passed a 0.0 value to it.\n",
    "\n",
    "\n",
    "We can also easily do calculations inside our DataFrame. Let's update the column `DIFF` by calculating the difference between `MAX` and ``MIN` columns to get an idea how much the temperatures have\n",
    "been varying during different days. Calculations can be done with following syntax where we first specify the column that we want to update (i.e. `DIFF`) and then do the actual calculation\n",
    "using the columns that we have in our dataFrameFrame."
   ]
  },
  {
   "cell_type": "code",
   "execution_count": null,
   "metadata": {
    "collapsed": false,
    "deletable": true,
    "editable": true
   },
   "outputs": [],
   "source": [
    "#Calculate max min difference\n",
    "\n",
    "\n",
    "# Print the dataframe\n"
   ]
  },
  {
   "cell_type": "markdown",
   "metadata": {
    "deletable": true,
    "editable": true
   },
   "source": [
    "The calculations were stored into the `DIFF` column as planned. \n",
    "\n",
    "Notice that you can create new columns on-the-fly at the same time when doing the calculation. **Let's test this by calculating the difference between minimum temperature (`MIN`) and the mean temperature of the day (`TEMP`)**.\n"
   ]
  },
  {
   "cell_type": "code",
   "execution_count": null,
   "metadata": {
    "collapsed": false,
    "deletable": true,
    "editable": true
   },
   "outputs": [],
   "source": [
    "# Calculate temp-min\n",
    "\n",
    "\n",
    "# Print the dataframe\n"
   ]
  },
  {
   "cell_type": "markdown",
   "metadata": {
    "deletable": true,
    "editable": true
   },
   "source": [
    "As you can see, now we created directly a new column with the calculation. In a similar manner, you can do calculations using as many columns as you need and using any kind of math\n",
    "algebra (e.g. subtracttion, addition, multiplication, division, exponentiation, etc.).\n",
    "\n",
    "\n",
    "We can for example convert the Fahrenheit temperatures in ``TEMP`` column into Celsius using the formula that we have seen already many times:\n"
   ]
  },
  {
   "cell_type": "code",
   "execution_count": null,
   "metadata": {
    "collapsed": false,
    "deletable": true,
    "editable": true
   },
   "outputs": [],
   "source": [
    "# Create a new column and calculate temp to celsius:\n"
   ]
  },
  {
   "cell_type": "markdown",
   "metadata": {
    "deletable": true,
    "editable": true
   },
   "source": [
    "## Selecting data using indices\n",
    "\n",
    "One quite common procedure in programming that you want to select only specific rows from your data and possibly apply some operations into those rows only.\n",
    "In Pandas there are different ways of doing this.\n",
    "\n",
    "One common way of selecting only specific rows from your DataFrame is done via **index slicing** to extract part of the DataFrame.\n",
    "\n",
    "Let's select the first five rows and assign them to a variable called ``rows5``."
   ]
  },
  {
   "cell_type": "code",
   "execution_count": null,
   "metadata": {
    "collapsed": false,
    "deletable": true,
    "editable": true
   },
   "outputs": [],
   "source": [
    "# Select first five rows of dataframe\n"
   ]
  },
  {
   "cell_type": "markdown",
   "metadata": {
    "deletable": true,
    "editable": true
   },
   "source": [
    "As you can see, slicing is done in a similar manner as with normal Python lists, i.e. you specify index range you want to select inside the square brackets\n",
    "``selection = dataFrame[start_index:stop_index]``.\n",
    "\n",
    "You can also select an individual row from specific position using ``.loc[]`` indexing. Here we select all the data values from row 8.\n"
   ]
  },
  {
   "cell_type": "code",
   "execution_count": null,
   "metadata": {
    "collapsed": false,
    "deletable": true,
    "editable": true
   },
   "outputs": [],
   "source": [
    "# Select one row using index "
   ]
  },
  {
   "cell_type": "markdown",
   "metadata": {
    "deletable": true,
    "editable": true
   },
   "source": [
    "``.loc[]`` indexing returns the values from that position as a ``pd.Series`` where the indices are actually the column names of those variables. Hence, you can access the value of an individual column by referring to its index using following format (both should work):\n"
   ]
  },
  {
   "cell_type": "code",
   "execution_count": null,
   "metadata": {
    "collapsed": false,
    "deletable": true,
    "editable": true
   },
   "outputs": [],
   "source": [
    "#Print one attribute from the selected row\n"
   ]
  },
  {
   "cell_type": "markdown",
   "metadata": {
    "deletable": true,
    "editable": true
   },
   "source": [
    "It is also possible to select multiple rows simultaniously. Here, we select only temperature values (``TEMP``) between indices of 5-10:\n"
   ]
  },
  {
   "cell_type": "code",
   "execution_count": null,
   "metadata": {
    "collapsed": false,
    "deletable": true,
    "editable": true
   },
   "outputs": [],
   "source": [
    "# Select temp column values between indices 5 and 10\n"
   ]
  },
  {
   "cell_type": "markdown",
   "metadata": {
    "deletable": true,
    "editable": true
   },
   "source": [
    "It is also possible to select multiple columns using those same indices. Here, we select `TEMP` and the `TEMP_Celsius` columns by passing them inside a list (`.loc[start_index:stop_index, list_of_columns]`):"
   ]
  },
  {
   "cell_type": "code",
   "execution_count": null,
   "metadata": {
    "collapsed": false,
    "deletable": true,
    "editable": true
   },
   "outputs": [],
   "source": [
    "# Select temp and temp_celsius column values between indices 5 and 10\n"
   ]
  },
  {
   "cell_type": "markdown",
   "metadata": {
    "deletable": true,
    "editable": true
   },
   "source": [
    "Of course, you can also get all values from those columns. This, can be done by simply referring to the dataFrame and inserting a list of columns inside the square brackets that you want to include.\n"
   ]
  },
  {
   "cell_type": "code",
   "execution_count": null,
   "metadata": {
    "collapsed": false,
    "deletable": true,
    "editable": true
   },
   "outputs": [],
   "source": [
    "# Select all rows from temp and temp_celsius columns\n"
   ]
  },
  {
   "cell_type": "markdown",
   "metadata": {
    "deletable": true,
    "editable": true
   },
   "source": [
    "## Filtering and updating data\n",
    "\n",
    "\n",
    "One really useful feature in Pandas is the ability to easily filter and select rows based on a conditional statement.\n",
    "The following example shows how to select rows when the Celsius temperature has been higher than 15 degrees into variable ``w_temps`` (warm temperatures).\n"
   ]
  },
  {
   "cell_type": "code",
   "execution_count": null,
   "metadata": {
    "collapsed": false,
    "deletable": true,
    "editable": true
   },
   "outputs": [],
   "source": [
    "# Select rows with temp celsius higher than 15 degrees\n",
    "w_temps ="
   ]
  },
  {
   "cell_type": "markdown",
   "metadata": {
    "deletable": true,
    "editable": true
   },
   "source": [
    "It is also possible to combine multiple criteria at the same time. Here, we select temperatures above 15 degrees that were recorded on the second half of June in 2016 (i.e. ``YEARMODA >= 20160615``).\n",
    "Combining multiple criteria can be done with ``&`` operator (AND) or ``|`` operator (OR). Notice, that it is often useful to separate the different clauses inside the parentheses ``()``.\n"
   ]
  },
  {
   "cell_type": "code",
   "execution_count": null,
   "metadata": {
    "collapsed": false,
    "deletable": true,
    "editable": true
   },
   "outputs": [],
   "source": [
    "# Select rows with temp celsius higher than 15 degrees from late June 2016\n",
    "w_temps2 = "
   ]
  },
  {
   "cell_type": "markdown",
   "metadata": {
    "deletable": true,
    "editable": true
   },
   "source": [
    "Now we have a subset of our DataFrame with only rows where the ``TEMP_Celsius`` is above 15 and the dates in ``YEARMODA`` column start from 15th of June.\n",
    "\n",
    "Notice, that the index values (numbers on the left) are still showing the positions from the original DataFrame. It is possible to **reset** the index using ``reset_index()`` function that\n",
    "might be useful in some cases to be able to slice the data in a similar manner as above. By default the ``reset_index()`` would make a new column called ``index`` to keep track on the previous\n",
    "index which might be useful in some cases but here not, so we can omit that by passing parameter ``drop=True``."
   ]
  },
  {
   "cell_type": "code",
   "execution_count": null,
   "metadata": {
    "collapsed": false,
    "deletable": true,
    "editable": true
   },
   "outputs": [],
   "source": [
    "# Reset index\n",
    "w_temps2 ="
   ]
  },
  {
   "cell_type": "markdown",
   "metadata": {
    "deletable": true,
    "editable": true
   },
   "source": [
    "As can be seen, now the index values goes from 0 to 12.\n",
    "\n",
    "## Dealing with missing data\n",
    "\n",
    "Next we manipulate the first five values of ``TEMP_Celsius`` in our ``w_temps2`` DataFrame to be ``NaN`` (not-a-number). This can be done using the ``loc[]`` indexing."
   ]
  },
  {
   "cell_type": "code",
   "execution_count": null,
   "metadata": {
    "collapsed": false,
    "deletable": true,
    "editable": true
   },
   "outputs": [],
   "source": [
    "# Set temp_celsius as none in the first five rows\n"
   ]
  },
  {
   "cell_type": "markdown",
   "metadata": {
    "deletable": true,
    "editable": true
   },
   "source": [
    "\n",
    "Now we can see that we have some missing data in our DataFrame."
   ]
  },
  {
   "cell_type": "markdown",
   "metadata": {
    "deletable": true,
    "editable": true
   },
   "source": [
    "**NOTE:**    Notice here that you don't necessary need to specify the starting index if you select data starting from the beginning of the file (at index 0), hence you can leave it empty as in the example above.\n",
    "\n",
    "Having missing data in your datafile is really common situation and typically you want to deal with it somehow. Common procedures to deal with NaN is to either **remove** them from\n",
    "the DataFrame or **fill** them with some value. In Pandas both of these options are really easy to do.\n",
    "\n",
    "Let's first see how we can remove the NoData values (i.e. clean the data) using ``dropna()`` function. Inside the function\n",
    "you can pass with ``subset`` parameter a list of column(s) from which the NaN values should be searched from.\n"
   ]
  },
  {
   "cell_type": "code",
   "execution_count": null,
   "metadata": {
    "collapsed": false,
    "deletable": true,
    "editable": true
   },
   "outputs": [],
   "source": [
    "# Drop no data values based on temp_celsius column\n",
    "w_temps_clean = "
   ]
  },
  {
   "cell_type": "markdown",
   "metadata": {
    "deletable": true,
    "editable": true
   },
   "source": [
    "As you can see, as a result we now have a DataFrame without the NoData values.\n",
    "\n",
    "Other option is to fill the NoData with some value using ``fillna()`` -function. Here we fill it with value 0.\n"
   ]
  },
  {
   "cell_type": "code",
   "execution_count": null,
   "metadata": {
    "collapsed": false,
    "deletable": true,
    "editable": true
   },
   "outputs": [],
   "source": [
    "# Fill na values with 0\n",
    "w_temps_na_filled ="
   ]
  },
  {
   "cell_type": "markdown",
   "metadata": {
    "deletable": true,
    "editable": true
   },
   "source": [
    "As a result we now have a DataFrame where NoData values are filled with value 0.00000."
   ]
  },
  {
   "cell_type": "markdown",
   "metadata": {
    "deletable": true,
    "editable": true
   },
   "source": [
    "**Warning:** In many cases filling the data with a specific value might be dangerous because you end up modifying the actual data that might affect the results of your analysis. For example in the example above we would have dramatically changed the mean Celsius temperature because the 0 values are dramatically decreasing the average temperature of the month. Hence, use filling carefully.\n",
    "\n",
    "## Sorting data\n",
    "\n",
    "\n",
    "Quite often it is useful to be able to sort your data (descending/ascending) based on values in some column\n",
    "This can be easily done with Pandas using ``sort_values(by='YourColumnName')`` -function.\n",
    "\n",
    "Let's first sort the values on ascending order based on the ``TEMP`` column:"
   ]
  },
  {
   "cell_type": "code",
   "execution_count": null,
   "metadata": {
    "collapsed": false,
    "deletable": true,
    "editable": true
   },
   "outputs": [],
   "source": [
    "# Sort dataframe, ascending\n",
    "sorted_temp_a = "
   ]
  },
  {
   "cell_type": "markdown",
   "metadata": {
    "deletable": true,
    "editable": true
   },
   "source": [
    "Of course, it is also possible to sort them in descending order with `ascending=False` parameter:\n"
   ]
  },
  {
   "cell_type": "code",
   "execution_count": null,
   "metadata": {
    "collapsed": false,
    "deletable": true,
    "editable": true
   },
   "outputs": [],
   "source": [
    "# Sort dataframe, descending\n",
    "sorted_temp_d = "
   ]
  },
  {
   "cell_type": "markdown",
   "metadata": {
    "deletable": true,
    "editable": true
   },
   "source": [
    "## Rounding and finding unique values\n",
    "\n",
    "\n",
    "It is possible to round values easily by using ``round()`` function. Here we round the Celsius temperatures with 0-decimals"
   ]
  },
  {
   "cell_type": "code",
   "execution_count": null,
   "metadata": {
    "collapsed": false,
    "deletable": true,
    "editable": true
   },
   "outputs": [],
   "source": [
    "# Create new column, and round celsius values\n"
   ]
  },
  {
   "cell_type": "markdown",
   "metadata": {
    "deletable": true,
    "editable": true
   },
   "source": [
    "Now we have rounded our Celsius temperatures. Sometimes it is useful to extract the unique values that you have in your column.\n",
    "We can do that by using ``unique_values()`` -function:"
   ]
  },
  {
   "cell_type": "code",
   "execution_count": null,
   "metadata": {
    "collapsed": false,
    "deletable": true,
    "editable": true
   },
   "outputs": [],
   "source": [
    "# Get unique celsius values\n"
   ]
  },
  {
   "cell_type": "markdown",
   "metadata": {
    "deletable": true,
    "editable": true
   },
   "source": [
    "As a result we get an array of unique values in that column."
   ]
  },
  {
   "cell_type": "markdown",
   "metadata": {
    "deletable": true,
    "editable": true
   },
   "source": [
    "**Note:** Sometimes if you have a long list of unique values, you don't necessary see all the unique values directly as IPython hides them. It is, however, possible to see all those values by printing them as a list:"
   ]
  },
  {
   "cell_type": "code",
   "execution_count": null,
   "metadata": {
    "collapsed": false,
    "deletable": true,
    "editable": true
   },
   "outputs": [],
   "source": [
    "# unique values as list\n"
   ]
  },
  {
   "cell_type": "markdown",
   "metadata": {
    "deletable": true,
    "editable": true
   },
   "source": [
    "How many days with unique mean temperature did we have in June 2016? We can check that!\n"
   ]
  },
  {
   "cell_type": "code",
   "execution_count": null,
   "metadata": {
    "collapsed": false,
    "deletable": true,
    "editable": true
   },
   "outputs": [],
   "source": [
    "# Number of unique values"
   ]
  },
  {
   "cell_type": "markdown",
   "metadata": {
    "deletable": true,
    "editable": true
   },
   "source": [
    "## Writing data\n",
    "\n",
    "Lastly, it is of course important to be able to write the data that you have analyzed into your computer. This is really handy in Pandas as it supports many different data formats\n",
    "by default (`see more info here <pandas-overview.html#supports-data-read-write-from-multiple-formats>`__).\n",
    "The most typical output format by far is CSV file. Function ``to_csv()`` can be used to easily save your data in CSV format.\n",
    "\n",
    "Let's first save the data from our ``data`` DataFrame into a file called ``Kumpula_temp_results_June_2016.csv`` .\n"
   ]
  },
  {
   "cell_type": "code",
   "execution_count": null,
   "metadata": {
    "collapsed": false,
    "deletable": true,
    "editable": true
   },
   "outputs": [],
   "source": [
    "# define output filename\n",
    "output_fp = \n",
    "\n",
    "# Save dataframe to csv\n"
   ]
  },
  {
   "cell_type": "markdown",
   "metadata": {
    "deletable": true,
    "editable": true
   },
   "source": [
    "\n",
    "Nice, now we have the data from our DataFrame saved to a file:\n",
    "![file output 1](img/pandas_save_file_result_1.PNG)\n",
    "\n",
    "\n",
    "As you can see, the first value in the datafile contains now the index value of the rows. There are also quite many decimals present in the new columns\n",
    "that we created. Let's deal with these and save the temperature values from ``w_temps`` DataFrame without the index and with only 1 decimal in the floating point numbers.\n",
    "\n"
   ]
  },
  {
   "cell_type": "code",
   "execution_count": null,
   "metadata": {
    "collapsed": true,
    "deletable": true,
    "editable": true
   },
   "outputs": [],
   "source": [
    "# Create output filename\n",
    "output_fp2 = \"Kumpula_temps_above15_June_2016.csv\"\n",
    "\n",
    "# save w_temps to csv, and round float values to 1 decimal\n"
   ]
  },
  {
   "cell_type": "markdown",
   "metadata": {
    "deletable": true,
    "editable": true
   },
   "source": [
    "\n",
    "Omitting the index can be with `index=False` parameter. Specifying how many decimals should be written can be done with `float_format` -parameter where text `%.1f` defines Pandas to use 1 decimals\n",
    "in all columns when writing the data to a file (changing the value 1 to 2 would write 2 decimals etc.)\n",
    "\n",
    "![Text file with](img/pandas_save_file_result_2.PNG)\n",
    "\n",
    "As a results you have a \"cleaner\" output file without the index column, and with only 1 decimal for floating point numbers.\n",
    "\n",
    "**DATAFRAME TO EXCEL, PLEASE?**\n",
    "\n",
    "It is quite common that people (especially non-programmers) want you to deliver data in MS Excel format. Saving DataFrame into Excel is also straightforward in Pandas. First, you need to initialize a specific `ExcelWriter` object, and then you specify the filename and the spreadsheet name where you want to save the DataFrame. Optionally, you can also omit the index and specify the float formatting as in our earlier examples:"
   ]
  },
  {
   "cell_type": "code",
   "execution_count": null,
   "metadata": {
    "collapsed": true,
    "deletable": true,
    "editable": true
   },
   "outputs": [],
   "source": [
    "# Specify output filename\n",
    "excel_output_fp = \n",
    "\n",
    "# Initialize ExcelWriter\n",
    "writer = \n",
    "\n",
    "#Write data to excel\n"
   ]
  },
  {
   "cell_type": "markdown",
   "metadata": {
    "deletable": true,
    "editable": true
   },
   "source": [
    "As a result you have the DataFrame in Excel format in your working directory:\n",
    "\n",
    "![Excel spreadsheet](img/pandas_save_excel_result_1.PNG)"
   ]
  }
 ],
 "metadata": {
  "anaconda-cloud": {},
  "kernelspec": {
   "display_name": "Python [default]",
   "language": "python",
   "name": "python3"
  },
  "language_info": {
   "codemirror_mode": {
    "name": "ipython",
    "version": 3
   },
   "file_extension": ".py",
   "mimetype": "text/x-python",
   "name": "python",
   "nbconvert_exporter": "python",
   "pygments_lexer": "ipython3",
   "version": "3.5.2"
  }
 },
 "nbformat": 4,
 "nbformat_minor": 2
}
