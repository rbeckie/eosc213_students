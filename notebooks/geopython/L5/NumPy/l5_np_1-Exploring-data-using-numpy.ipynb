{
 "cells": [
  {
   "cell_type": "markdown",
   "metadata": {},
   "source": [
    "# Exploring data using NumPy\n",
    "\n",
    "Our first task in this week's lesson is to learn how to read and explore data files using [NumPy](http://www.numpy.org/).\n",
    "Reading data files using NumPy will make life a bit easier compared to the traditional Python way of reading data files.\n",
    "If you're curious about that, you can check out some of the lesson materials from past years about [reading data in the Pythonic way](https://geo-python.github.io/2018/2017/lessons/L5/reading-data-from-file.html).\n",
    "\n",
    "## What is NumPy?\n",
    "\n",
    "NumPy is a library for Python designed for efficient scientific (numerical) computing.\n",
    "It is an essential library in Python that is used under the hood in many other modules (including [Pandas](https://pandas.pydata.org/)).\n",
    "Here, we will get a sense of a few things NumPy can do."
   ]
  },
  {
   "cell_type": "markdown",
   "metadata": {},
   "source": [
    "## Preparation (the key to success)\n",
    "\n",
    "Presumably you have already opened this Jupyter notebook (if not, do so now using one of the links above), and our first task is to change the working directory to the one containing the files for this week's lesson (in this case the `numpy` directory.\n",
    "You can do that by first checking which directory Jupyter is operating in using the `%ls` IPython magic command."
   ]
  },
  {
   "cell_type": "code",
   "execution_count": null,
   "metadata": {},
   "outputs": [],
   "source": [
    "%ls"
   ]
  },
  {
   "cell_type": "markdown",
   "metadata": {},
   "source": [
    "If you see files like `1-Exploring-data-using-numpy.ipynb`, you're all set.\n",
    "If not, you can change the working directory using the `%cd` magic command.\n",
    "For example,"
   ]
  },
  {
   "cell_type": "code",
   "execution_count": null,
   "metadata": {},
   "outputs": [],
   "source": []
  },
  {
   "cell_type": "markdown",
   "metadata": {},
   "source": [
    "The command above gives an error in this case because we're in a different directory, but you get the point.\n",
    "If you need some additional help to get into the right working directory, you can refer back to the lesson on functions where we covered changing the working directory in more detail."
   ]
  },
  {
   "cell_type": "markdown",
   "metadata": {},
   "source": [
    "## Reading a data file with NumPy\n",
    "\n",
    "### Importing NumPy\n",
    "\n",
    "Now we're ready to read in our temperature data file.\n",
    "First, we need to import the NumPy module."
   ]
  },
  {
   "cell_type": "code",
   "execution_count": null,
   "metadata": {},
   "outputs": [],
   "source": []
  },
  {
   "cell_type": "markdown",
   "metadata": {},
   "source": [
    "That's it!\n",
    "NumPy is now ready to use.\n",
    "Notice that we have imported the NumPy module with the name `np`."
   ]
  },
  {
   "cell_type": "markdown",
   "metadata": {},
   "source": [
    "### Reading a data file\n",
    "\n",
    "Now we'll read the file data into a variable called `data`.\n",
    "We can start by defining the location (filepath) of the data file in the variable `fp`."
   ]
  },
  {
   "cell_type": "code",
   "execution_count": null,
   "metadata": {},
   "outputs": [],
   "source": []
  },
  {
   "cell_type": "markdown",
   "metadata": {},
   "source": [
    "Now we can read the file using the NumPy `genfromtxt()` function."
   ]
  },
  {
   "cell_type": "code",
   "execution_count": null,
   "metadata": {},
   "outputs": [],
   "source": []
  },
  {
   "cell_type": "markdown",
   "metadata": {},
   "source": [
    "`np.genfromtxt()` is a general function for reading data files separated by commas, spaces, or other common separators.\n",
    "For a full list of parameters for this function, please refer to the [NumPy documentation for numpy.genfromtxt()](https://docs.scipy.org/doc/numpy/reference/generated/numpy.genfromtxt.html).\n",
    "\n",
    "Here we use the function simply by giving the filename as an input parameter.\n",
    "If all goes as planned, you should now have a new variable defined as `data` in memory that contains the contents of the data file.\n",
    "You can check the the contents of this variable by typing the following:"
   ]
  },
  {
   "cell_type": "code",
   "execution_count": null,
   "metadata": {},
   "outputs": [],
   "source": []
  },
  {
   "cell_type": "markdown",
   "metadata": {},
   "source": [
    "### Inspecting our data file\n",
    "\n",
    "Hmm...something doesn't look right here.\n",
    "You were perhaps expecting some temperature data, right?\n",
    "Instead we have only a list of `nan` values.\n",
    "\n",
    "`nan` stands for \"not a number\", and might indicate some problem with reading in the contents of the file.\n",
    "Looks like we need to investigate this further.\n",
    "\n",
    "We can begin our investigation by opening the data file in JupyterLab by right-clicking on the `Kumpula-June-2016-w-metadata.txt` data file and selecting **Open**.\n",
    "\n",
    "![Opening a file in JupyterLab](../img/open-text-file.png)\n",
    "\n",
    "You should see something like the following:"
   ]
  },
  {
   "cell_type": "raw",
   "metadata": {},
   "source": [
    "# Data file contents: Daily temperatures (mean, min, max) for Kumpula, Helsinki\n",
    "#                     for June 1-30, 2016\n",
    "# Data source: https://www.ncdc.noaa.gov/cdo-web/search?datasetid=GHCND\n",
    "# Data processing: Extracted temperatures from raw data file, converted to\n",
    "#                  comma-separated format\n",
    "#\n",
    "# David Whipp - 02.10.2017\n",
    "\n",
    "YEARMODA,TEMP,MAX,MIN\n",
    "20160601,65.5,73.6,54.7\n",
    "20160602,65.8,80.8,55.0\n",
    "..."
   ]
  },
  {
   "cell_type": "markdown",
   "metadata": {},
   "source": [
    "We can observe a few important things:\n",
    "\n",
    "- There are some metadata at the top of the file (a *header*) that provide basic information about its contents and source.\n",
    "  This isn’t data we want to process, so we need to skip over that part of the file when we load it.\n",
    "    - We can skip the top header lines in the file using the `skip_header` parameter.\n",
    "- The values in the data file are separated by commas.\n",
    "    - We can specify the value separator using the `delimiter` parameter.\n",
    "- The top row of values below the header contains names of the column variables.\n",
    "    - We'll deal with those later."
   ]
  },
  {
   "cell_type": "markdown",
   "metadata": {},
   "source": [
    "### Reading our data file, round 2\n",
    "\n",
    "Let's try reading again with this information in mind."
   ]
  },
  {
   "cell_type": "code",
   "execution_count": null,
   "metadata": {},
   "outputs": [],
   "source": []
  },
  {
   "cell_type": "markdown",
   "metadata": {},
   "source": [
    "Note that we now skip the header lines (first 9 lines) using `skip_header=9` and tell NumPy the files is comma-separated using `delimiter=','`.\n",
    "\n",
    "Let's print out the contents of `data` now and see how things look."
   ]
  },
  {
   "cell_type": "code",
   "execution_count": null,
   "metadata": {},
   "outputs": [],
   "source": []
  },
  {
   "cell_type": "markdown",
   "metadata": {},
   "source": [
    "That's more like it.\n",
    "\n",
    "OK, so let's review what just happened.\n",
    "Well, the file data was read into a NumPy *ndarray*, which is a type of NumPy *n*-dimensional structure used for storing data like a matrix.\n",
    "What?!?\n",
    "Yeah, in our case we have a two dimensional data struture similar to a spreadsheet.\n",
    "Everything is together in a single large data structure at the moment, but we'll see later in the lesson how to divide up our data and make interacting with it easier.\n",
    "\n",
    "Now we can move on to exploring our data."
   ]
  },
  {
   "cell_type": "markdown",
   "metadata": {},
   "source": [
    "#### Checking data file formats\n",
    "\n",
    "The example above, trying to read a datafile with some header text (the metadata in this case), is *very* common.\n",
    "Reading data into NumPy is pretty easy, but it helps to have a sense of what the datafile looks like before you try to read it.\n",
    "The challenge can be that large datafiles might not nicely (or quickly) load into the JupyterLab editor, so it might be better to look at only the top 5-10 lines of the file rather than loading the entire thing.\n",
    "Fortunately, there are solutions to that problem.\n",
    "\n",
    "When you're trying to think over how to read in a data file you can take advantage of common command-line tools like **head**.\n",
    "**head** is a simple program to read lines from the start of a data file and print them to the screen.\n",
    "You can use **head** from the command line in JupyterLab by first opening a JupyterLab terminal from the JupyterLab menu bar (**File** -> **New** -> **Terminal**).\n",
    "Once in the terminal, you can simply navigate to the directory containing your datafile and type **head** followed by the file name:\n",
    "\n",
    "```bash\n",
    "$ head Kumpula-June-2016-w-metadata.txt\n",
    "# Data file contents: Daily temperatures (mean, min, max) for Kumpula, Helsinki\n",
    "#                     for June 1-30, 2016\n",
    "# Data source: https://www.ncdc.noaa.gov/cdo-web/search?datasetid=GHCND\n",
    "# Data processing: Extracted temperatures from raw data file, converted to\n",
    "#                  comma-separated format\n",
    "#\n",
    "# David Whipp - 02.10.2017\n",
    "\n",
    "YEARMODA,TEMP,MAX,MIN\n",
    "20160601,65.5,73.6,54.7\n",
    "```\n",
    "\n",
    "As you can see, **head** gives you the first 10 lines of the file by default.\n",
    "You can use the `-n` flag to get a larger or smaller number of lines.\n",
    "\n",
    "```bash\n",
    "$ head -n 5 Kumpula-June-2016-w-metadata.txt\n",
    "# Data file contents: Daily temperatures (mean, min, max) for Kumpula, Helsinki\n",
    "#                     for June 1-30, 2016\n",
    "# Data source: https://www.ncdc.noaa.gov/cdo-web/search?datasetid=GHCND\n",
    "# Data processing: Extracted temperatures from raw data file, converted to\n",
    "#                  comma-separated format\n",
    "```"
   ]
  },
  {
   "cell_type": "markdown",
   "metadata": {},
   "source": [
    "## Exploring our dataset\n",
    "\n",
    "So this is a big deal for us.\n",
    "We now have some basic Python skills and the ability to read in data from a file for processing.\n",
    "A normal first step when you load new data is to explore the dataset a bit to understand what is there and its format."
   ]
  },
  {
   "cell_type": "markdown",
   "metadata": {},
   "source": [
    "### Checking the array data type\n",
    "\n",
    "Perhaps as a first step, we can check the type of data we have in our NumPy array `data`."
   ]
  },
  {
   "cell_type": "code",
   "execution_count": null,
   "metadata": {},
   "outputs": [],
   "source": []
  },
  {
   "cell_type": "markdown",
   "metadata": {},
   "source": [
    "It's a NumPy *ndarray*, not much surprise here."
   ]
  },
  {
   "cell_type": "markdown",
   "metadata": {},
   "source": [
    "### Checking the data array type\n",
    "\n",
    "Let’s now have a look at the data types in our ndarray.\n",
    "We can find this in the `dtype` attribute that is part of the ndarray data type, something that is known automatically for this kind of data."
   ]
  },
  {
   "cell_type": "code",
   "execution_count": null,
   "metadata": {},
   "outputs": [],
   "source": []
  },
  {
   "cell_type": "markdown",
   "metadata": {},
   "source": [
    "Here we see the data are floating point values with 64-bit precision."
   ]
  },
  {
   "cell_type": "markdown",
   "metadata": {},
   "source": [
    "<div class=\"alert alert-info\">\n",
    "\n",
    "**Note:**\n",
    "\n",
    "There are some exceptions, but normal NumPy arrays will all have the same data type.\n",
    "\n",
    "</div>"
   ]
  },
  {
   "cell_type": "markdown",
   "metadata": {},
   "source": [
    "### Checking the size of the dataset\n",
    "\n",
    "We can also check to see how many rows and columns we have in the dataset using the `shape` attribute."
   ]
  },
  {
   "cell_type": "code",
   "execution_count": null,
   "metadata": {},
   "outputs": [],
   "source": []
  },
  {
   "cell_type": "markdown",
   "metadata": {},
   "source": [
    "Here we see how there are 30 rows of data and 4 columns."
   ]
  },
  {
   "cell_type": "markdown",
   "metadata": {},
   "source": [
    "### Working with our data - Index slicing\n",
    "\n",
    "Let's have another quick look at our data."
   ]
  },
  {
   "cell_type": "code",
   "execution_count": null,
   "metadata": {},
   "outputs": [],
   "source": []
  },
  {
   "cell_type": "markdown",
   "metadata": {},
   "source": [
    "This is OK, but we can certainly make it easier to work with.\n",
    "We can start by slicing our data up into different columns and creating new variables with the column data.\n",
    "Slices from our array can be extracted using the *index values*.\n",
    "In our case, we have two indices in our 2D data structure.\n",
    "For example, the index values `[2,0]`"
   ]
  },
  {
   "cell_type": "code",
   "execution_count": null,
   "metadata": {},
   "outputs": [],
   "source": []
  },
  {
   "cell_type": "markdown",
   "metadata": {},
   "source": [
    "give us the value at row 2, column 0.\n",
    "\n",
    "We can also use ranges of rows and columns using the `:` character.\n",
    "For example, we could get the first 5 rows of values in column zero by typing"
   ]
  },
  {
   "cell_type": "code",
   "execution_count": null,
   "metadata": {},
   "outputs": [],
   "source": []
  },
  {
   "cell_type": "markdown",
   "metadata": {},
   "source": [
    "Not bad, right?\n",
    "\n",
    "In fact, we don't even necessarily need the lower bound for this slice of data because NumPy will assume it for us if we don't list it.\n",
    "Let's see another example."
   ]
  },
  {
   "cell_type": "code",
   "execution_count": null,
   "metadata": {},
   "outputs": [],
   "source": []
  },
  {
   "cell_type": "markdown",
   "metadata": {},
   "source": [
    "Here, the lower bound of the index range `0` is assumed and we get all rows up to (but not including) index `5`."
   ]
  },
  {
   "cell_type": "markdown",
   "metadata": {},
   "source": [
    "### Slicing our data into columns\n",
    "\n",
    "Now let's use the ideas of index slicing to cut our 2D data into 4 separate columns that will be easier to work with.\n",
    "As you might recall from the header of the file, we have 4 data values: `YEARMODA`, `TEMP`, `MAX`, and `MIN`.\n",
    "We can exract all of the values from a given column by not listing and upper or lower bound for the index slice.\n",
    "For example,"
   ]
  },
  {
   "cell_type": "code",
   "execution_count": null,
   "metadata": {},
   "outputs": [],
   "source": []
  },
  {
   "cell_type": "code",
   "execution_count": null,
   "metadata": {},
   "outputs": [],
   "source": []
  },
  {
   "cell_type": "markdown",
   "metadata": {},
   "source": [
    "OK, this looks promising.\n",
    "Let's quickly handle the others."
   ]
  },
  {
   "cell_type": "code",
   "execution_count": null,
   "metadata": {},
   "outputs": [],
   "source": [
    "temp = data[:, 1]\n",
    "temp_max = data[:, 2]\n",
    "temp_min = data[:, 3]"
   ]
  },
  {
   "cell_type": "markdown",
   "metadata": {},
   "source": [
    "Now we have 4 variables, one for each column in the data file.\n",
    "This should make life easier when we want to perform some calculations on our data."
   ]
  },
  {
   "cell_type": "markdown",
   "metadata": {},
   "source": [
    "### Checking the data in memory\n",
    "\n",
    "We can see the types of data we have defined at this point, the variable names, and their types using the `%whos` magic command.\n",
    "This is quite handy."
   ]
  },
  {
   "cell_type": "code",
   "execution_count": null,
   "metadata": {},
   "outputs": [],
   "source": []
  },
  {
   "cell_type": "markdown",
   "metadata": {},
   "source": [
    "### Basic data calculations in NumPy\n",
    "\n",
    "NumPy ndarrays have a set of attributes they know about themselves and methods they can use to make calculations using the data.\n",
    "Useful methods include `mean()`, `min()`, `max()`, and `std()` (the standard deviation).\n",
    "For example, we can easily find the mean temperature."
   ]
  },
  {
   "cell_type": "code",
   "execution_count": null,
   "metadata": {},
   "outputs": [],
   "source": []
  },
  {
   "cell_type": "markdown",
   "metadata": {},
   "source": [
    "### Data type conversions\n",
    "\n",
    "Lastly, we can convert our ndarray data from one data type to another using the `astype()` method.\n",
    "As we see in the output from `%whos` above, our `date` array contains `float64` data, but it was simply integer values in the data file.\n",
    "We can convert `date` to integers by typing"
   ]
  },
  {
   "cell_type": "code",
   "execution_count": null,
   "metadata": {},
   "outputs": [],
   "source": []
  },
  {
   "cell_type": "code",
   "execution_count": null,
   "metadata": {},
   "outputs": [],
   "source": []
  },
  {
   "cell_type": "code",
   "execution_count": null,
   "metadata": {},
   "outputs": [],
   "source": []
  },
  {
   "cell_type": "markdown",
   "metadata": {},
   "source": [
    "Now we see our dates as whole integer values."
   ]
  }
 ],
 "metadata": {
  "kernelspec": {
   "display_name": "Python 3",
   "language": "python",
   "name": "python3"
  },
  "language_info": {
   "codemirror_mode": {
    "name": "ipython",
    "version": 3
   },
   "file_extension": ".py",
   "mimetype": "text/x-python",
   "name": "python",
   "nbconvert_exporter": "python",
   "pygments_lexer": "ipython3",
   "version": "3.6.4"
  }
 },
 "nbformat": 4,
 "nbformat_minor": 2
}
