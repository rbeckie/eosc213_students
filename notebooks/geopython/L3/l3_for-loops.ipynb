{
 "cells": [
  {
   "cell_type": "markdown",
   "metadata": {},
   "source": [
    "# for loops\n",
    "\n",
    "## Sources\n",
    "\n",
    "This lesson is based on the [Software Carpentry group's](http://software-carpentry.org/) lessons on [Programming with Python](http://swcarpentry.github.io/python-novice-inflammation/).\n",
    "\n",
    "## Basics of for loops\n",
    "\n",
    "Loops allow parts of code to be repeated some number of times.\n",
    "\n",
    "### A (bad) example\n",
    "\n",
    "Let’s consider an example. Suppose we want to take a word and print out each letter of the word separately. We could do the following:"
   ]
  },
  {
   "cell_type": "code",
   "execution_count": null,
   "metadata": {},
   "outputs": [],
   "source": []
  },
  {
   "cell_type": "code",
   "execution_count": null,
   "metadata": {},
   "outputs": [],
   "source": []
  },
  {
   "cell_type": "code",
   "execution_count": null,
   "metadata": {},
   "outputs": [],
   "source": []
  },
  {
   "cell_type": "code",
   "execution_count": null,
   "metadata": {},
   "outputs": [],
   "source": []
  },
  {
   "cell_type": "code",
   "execution_count": null,
   "metadata": {},
   "outputs": [],
   "source": []
  },
  {
   "cell_type": "markdown",
   "metadata": {},
   "source": [
    "But this is a bad idea. Why? Well there are two reasons.\n",
    "First, it does not scale nicely for long strings, and will take forever to type in.\n",
    "Second, it won’t work if the word is not 4 characters long."
   ]
  },
  {
   "cell_type": "code",
   "execution_count": null,
   "metadata": {},
   "outputs": [],
   "source": []
  },
  {
   "cell_type": "code",
   "execution_count": null,
   "metadata": {},
   "outputs": [],
   "source": []
  },
  {
   "cell_type": "code",
   "execution_count": null,
   "metadata": {},
   "outputs": [],
   "source": []
  },
  {
   "cell_type": "code",
   "execution_count": null,
   "metadata": {},
   "outputs": [],
   "source": []
  },
  {
   "cell_type": "code",
   "execution_count": null,
   "metadata": {},
   "outputs": [],
   "source": []
  },
  {
   "cell_type": "markdown",
   "metadata": {},
   "source": [
    "### Introducing the for loop\n",
    "\n",
    "We could do a much better job by using a `for` loop."
   ]
  },
  {
   "cell_type": "code",
   "execution_count": null,
   "metadata": {},
   "outputs": [],
   "source": []
  },
  {
   "cell_type": "code",
   "execution_count": null,
   "metadata": {},
   "outputs": [],
   "source": []
  },
  {
   "cell_type": "markdown",
   "metadata": {},
   "source": [
    "Not only is this shorter, but it is also more flexible.\n",
    "Try out a different word such as `freezing fog`.\n",
    "Still works, right?"
   ]
  },
  {
   "cell_type": "code",
   "execution_count": null,
   "metadata": {},
   "outputs": [],
   "source": []
  },
  {
   "cell_type": "markdown",
   "metadata": {},
   "source": [
    "### for loop format\n",
    "\n",
    "`for` loops in Python have the general form below.\n",
    "\n",
    "```python\n",
    "for variable in collection:\n",
    "        do things with variable\n",
    "```\n",
    "\n",
    "The `variable` can be any name you like, and the statement of the `for` loop must end with a `:`.\n",
    "The code that should be executed as part of the loop must be indented beneath the `for` loop statement, and the typical indentation is 4 spaces.\n",
    "There is no additional special word needed to end the loop, you simply change the indentation back to normal.\n",
    "`for` loops are useful to repeat some part of the code a *definite* number of times."
   ]
  },
  {
   "cell_type": "markdown",
   "metadata": {},
   "source": [
    "#### Your daily for loop\n",
    "\n",
    "Like many other programming concepts, the idea of looping through actions is something that is already perhaps more familiar to you than you think.\n",
    "Consider your actions during a given day.\n",
    "Many people have certain routines they follow each day, such as waking up, taking a shower, eating breakfast and brushing their teeth.\n",
    "In Python code, we might represent such actions as follows:\n",
    "\n",
    "```python\n",
    "for day in my_life:\n",
    "    wake_up()\n",
    "    take_shower()\n",
    "    eat_breakfast()\n",
    "    brush_teeth()\n",
    "    ...\n",
    "```\n",
    "            \n",
    "Note that `my_life` would be a list of the days of your life, and the actions you take are represented as functions, such as `wake_up()`.\n",
    "Furthermore, by following this kind of list of repeating actions we're able to start the day effectively even before the first cup of coffee :)."
   ]
  },
  {
   "cell_type": "markdown",
   "metadata": {},
   "source": [
    "### Another for loop example\n",
    "\n",
    "Let's consider another example."
   ]
  },
  {
   "cell_type": "code",
   "execution_count": null,
   "metadata": {},
   "outputs": [],
   "source": []
  },
  {
   "cell_type": "code",
   "execution_count": null,
   "metadata": {},
   "outputs": [],
   "source": []
  },
  {
   "cell_type": "markdown",
   "metadata": {},
   "source": [
    "Can you follow what happens in this loop?\n",
    "\n",
    "### for loop variables\n",
    "\n",
    "Note that the variable used in the loop, `letter` in the case above is just a normal variable and still exists after the loop has completed with the final value given to letter."
   ]
  },
  {
   "cell_type": "code",
   "execution_count": null,
   "metadata": {},
   "outputs": [],
   "source": []
  },
  {
   "cell_type": "code",
   "execution_count": null,
   "metadata": {},
   "outputs": [],
   "source": []
  },
  {
   "cell_type": "markdown",
   "metadata": {},
   "source": [
    "### for loops and lists\n",
    "\n",
    "A loop can be used to iterate over any list of values in Python.\n",
    "So far we have considered only character strings, but we could also write a loop that performs a calculation a specified number of times."
   ]
  },
  {
   "cell_type": "code",
   "execution_count": null,
   "metadata": {},
   "outputs": [],
   "source": []
  },
  {
   "cell_type": "markdown",
   "metadata": {},
   "source": [
    "What happens here?\n",
    "Well, in this case, we use a special function called `range()` to give us a list of 5 numbers `[0, 1, 2, 3, 4]` and then print each number in the list to the screen.\n",
    "When given a integer (whole number) as an argument, `range()` will produce a list of numbers with a length equal to the specified `number`.\n",
    "The list starts at `0` and ends with `number - 1`.\n",
    "You can learn a bit more about range by typing"
   ]
  },
  {
   "cell_type": "code",
   "execution_count": null,
   "metadata": {},
   "outputs": [],
   "source": []
  },
  {
   "cell_type": "markdown",
   "metadata": {},
   "source": [
    "<hr>\n",
    "\n",
    "#### Poll question pause\n",
    "\n",
    "The program below will print numbers to the screen using the `range()` function.\n",
    "\n",
    "```python\n",
    "for i in range(...):\n",
    "    print(i)\n",
    "```\n",
    "\n",
    "Using the documentation that is produced when you run `help(range)`, what values would you replace the `...` in the parentheses of the `range()` function with to have the following output printed to the screen?\n",
    "\n",
    "```python\n",
    "2\n",
    "5\n",
    "8\n",
    "```\n",
    "\n",
    "Select your answer from the poll options at [https://geo-python.github.io/poll/](https://geo-python.github.io/poll/).\n",
    "\n",
    "<hr>\n",
    "\n",
    "### Calculating values in for loops\n",
    "\n",
    "Often when you use ``for`` loops, you are looping over the values in a list and either calculating a new value or modifying the existing values.\n",
    "Let's consider an example."
   ]
  },
  {
   "cell_type": "code",
   "execution_count": null,
   "metadata": {},
   "outputs": [],
   "source": [
    "mylist = [0.0, 1.0, 2.0, 3.0, 4.0, 5.0]"
   ]
  },
  {
   "cell_type": "code",
   "execution_count": null,
   "metadata": {},
   "outputs": [],
   "source": []
  },
  {
   "cell_type": "code",
   "execution_count": null,
   "metadata": {},
   "outputs": [],
   "source": []
  },
  {
   "cell_type": "markdown",
   "metadata": {},
   "source": [
    "So, what happened?\n",
    "We first create a list of 6 numbers.\n",
    "Then, we loop over 6 values using the `range()` function and add each value to the existing location in `mylist`.\n",
    "What would happen if we ran this for loop a second time?\n",
    "\n",
    "### Looping over the length of lists\n",
    "\n",
    "One of the drawbacks in the example above is that we need to know the length of the list before running that `for` loop example.\n",
    "However, we already know how to find the length of a list using the `len()` function, and we can take advantage of this knowledge to make our `for` loop more flexible."
   ]
  },
  {
   "cell_type": "code",
   "execution_count": null,
   "metadata": {},
   "outputs": [],
   "source": []
  },
  {
   "cell_type": "markdown",
   "metadata": {},
   "source": [
    "We've done exactly what we had done in the previous example, but replaced the known length of the list `6` with use of the `len()` function to provide the list length.\n",
    "Now if we add or remove values in `mylist`, our code will still work as expected."
   ]
  },
  {
   "cell_type": "code",
   "execution_count": null,
   "metadata": {},
   "outputs": [],
   "source": []
  },
  {
   "cell_type": "code",
   "execution_count": null,
   "metadata": {},
   "outputs": [],
   "source": []
  },
  {
   "cell_type": "code",
   "execution_count": null,
   "metadata": {},
   "outputs": [],
   "source": []
  },
  {
   "cell_type": "code",
   "execution_count": null,
   "metadata": {},
   "outputs": [],
   "source": []
  },
  {
   "cell_type": "markdown",
   "metadata": {},
   "source": [
    "Using the `len()` function with `range()` to perform calcluations using list or array values is an *extremely* common operation in Python.\n",
    "\n",
    "<hr>\n",
    "\n",
    "#### Poll question pause\n",
    "\n",
    "What output would the following program produce?\n",
    "\n",
    "```python\n",
    "word = 'ice pellets'\n",
    "for i in range(len(word)):\n",
    "    print(word[i])\n",
    "```\n",
    "\n",
    "Select your answer from the poll options at [https://geo-python.github.io/poll/](https://geo-python.github.io/poll/).\n",
    "\n",
    "<hr>"
   ]
  }
 ],
 "metadata": {
  "kernelspec": {
   "display_name": "Python 3",
   "language": "python",
   "name": "python3"
  },
  "language_info": {
   "codemirror_mode": {
    "name": "ipython",
    "version": 3
   },
   "file_extension": ".py",
   "mimetype": "text/x-python",
   "name": "python",
   "nbconvert_exporter": "python",
   "pygments_lexer": "ipython3",
   "version": "3.6.4"
  }
 },
 "nbformat": 4,
 "nbformat_minor": 2
}
